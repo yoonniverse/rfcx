{
 "cells": [
  {
   "cell_type": "code",
   "execution_count": 37,
   "metadata": {},
   "outputs": [],
   "source": [
    "import pandas as pd\n",
    "pd.options.display.max_rows = 999\n",
    "pd.options.display.max_columns = 999\n",
    "import numpy as np\n",
    "import cv2\n",
    "import sys\n",
    "import matplotlib.pyplot as plt\n",
    "import seaborn as sns\n",
    "import os\n",
    "import joblib\n",
    "import pickle\n",
    "from utils import flat, trace\n",
    "from tqdm import tqdm\n",
    "import psutil\n",
    "import torch\n",
    "import gc\n",
    "from itertools import product\n",
    "from multiprocessing import Pool\n",
    "from tqdm import tqdm\n",
    "from data import RFCXDataset\n",
    "from model import RFCXModel, kaggle_metric\n",
    "from utils import sigmoid, CFG, frommelscale, tomelscale\n",
    "import torch.nn.functional as F\n",
    "import timm\n",
    "import torch.nn as nn\n",
    "from scipy.stats import rankdata"
   ]
  },
  {
   "cell_type": "code",
   "execution_count": 2,
   "metadata": {},
   "outputs": [
    {
     "name": "stdout",
     "output_type": "stream",
     "text": [
      "4729 1992\n",
      "(1216, 6)\n"
     ]
    },
    {
     "data": {
      "text/html": [
       "<div>\n",
       "<style scoped>\n",
       "    .dataframe tbody tr th:only-of-type {\n",
       "        vertical-align: middle;\n",
       "    }\n",
       "\n",
       "    .dataframe tbody tr th {\n",
       "        vertical-align: top;\n",
       "    }\n",
       "\n",
       "    .dataframe thead th {\n",
       "        text-align: right;\n",
       "    }\n",
       "</style>\n",
       "<table border=\"1\" class=\"dataframe\">\n",
       "  <thead>\n",
       "    <tr style=\"text-align: right;\">\n",
       "      <th></th>\n",
       "      <th>species_id</th>\n",
       "      <th>songtype_id</th>\n",
       "      <th>t_min</th>\n",
       "      <th>f_min</th>\n",
       "      <th>t_max</th>\n",
       "      <th>f_max</th>\n",
       "    </tr>\n",
       "    <tr>\n",
       "      <th>recording_id</th>\n",
       "      <th></th>\n",
       "      <th></th>\n",
       "      <th></th>\n",
       "      <th></th>\n",
       "      <th></th>\n",
       "      <th></th>\n",
       "    </tr>\n",
       "  </thead>\n",
       "  <tbody>\n",
       "    <tr>\n",
       "      <th>003bec244</th>\n",
       "      <td>14</td>\n",
       "      <td>1</td>\n",
       "      <td>44.5440</td>\n",
       "      <td>2531.250</td>\n",
       "      <td>45.1307</td>\n",
       "      <td>5531.25</td>\n",
       "    </tr>\n",
       "    <tr>\n",
       "      <th>006ab765f</th>\n",
       "      <td>23</td>\n",
       "      <td>1</td>\n",
       "      <td>39.9615</td>\n",
       "      <td>7235.160</td>\n",
       "      <td>46.0452</td>\n",
       "      <td>11283.40</td>\n",
       "    </tr>\n",
       "    <tr>\n",
       "      <th>007f87ba2</th>\n",
       "      <td>12</td>\n",
       "      <td>1</td>\n",
       "      <td>39.1360</td>\n",
       "      <td>562.500</td>\n",
       "      <td>42.2720</td>\n",
       "      <td>3281.25</td>\n",
       "    </tr>\n",
       "    <tr>\n",
       "      <th>0099c367b</th>\n",
       "      <td>17</td>\n",
       "      <td>4</td>\n",
       "      <td>51.4206</td>\n",
       "      <td>1464.260</td>\n",
       "      <td>55.1996</td>\n",
       "      <td>4565.04</td>\n",
       "    </tr>\n",
       "    <tr>\n",
       "      <th>009b760e6</th>\n",
       "      <td>10</td>\n",
       "      <td>1</td>\n",
       "      <td>50.0854</td>\n",
       "      <td>947.461</td>\n",
       "      <td>52.5293</td>\n",
       "      <td>10852.70</td>\n",
       "    </tr>\n",
       "  </tbody>\n",
       "</table>\n",
       "</div>"
      ],
      "text/plain": [
       "              species_id  songtype_id    t_min     f_min    t_max     f_max\n",
       "recording_id                                                               \n",
       "003bec244             14            1  44.5440  2531.250  45.1307   5531.25\n",
       "006ab765f             23            1  39.9615  7235.160  46.0452  11283.40\n",
       "007f87ba2             12            1  39.1360   562.500  42.2720   3281.25\n",
       "0099c367b             17            4  51.4206  1464.260  55.1996   4565.04\n",
       "009b760e6             10            1  50.0854   947.461  52.5293  10852.70"
      ]
     },
     "metadata": {},
     "output_type": "display_data"
    },
    {
     "name": "stdout",
     "output_type": "stream",
     "text": [
      "(7781, 6)\n"
     ]
    },
    {
     "data": {
      "text/html": [
       "<div>\n",
       "<style scoped>\n",
       "    .dataframe tbody tr th:only-of-type {\n",
       "        vertical-align: middle;\n",
       "    }\n",
       "\n",
       "    .dataframe tbody tr th {\n",
       "        vertical-align: top;\n",
       "    }\n",
       "\n",
       "    .dataframe thead th {\n",
       "        text-align: right;\n",
       "    }\n",
       "</style>\n",
       "<table border=\"1\" class=\"dataframe\">\n",
       "  <thead>\n",
       "    <tr style=\"text-align: right;\">\n",
       "      <th></th>\n",
       "      <th>species_id</th>\n",
       "      <th>songtype_id</th>\n",
       "      <th>t_min</th>\n",
       "      <th>f_min</th>\n",
       "      <th>t_max</th>\n",
       "      <th>f_max</th>\n",
       "    </tr>\n",
       "    <tr>\n",
       "      <th>recording_id</th>\n",
       "      <th></th>\n",
       "      <th></th>\n",
       "      <th></th>\n",
       "      <th></th>\n",
       "      <th></th>\n",
       "      <th></th>\n",
       "    </tr>\n",
       "  </thead>\n",
       "  <tbody>\n",
       "    <tr>\n",
       "      <th>00204008d</th>\n",
       "      <td>21</td>\n",
       "      <td>1</td>\n",
       "      <td>13.8400</td>\n",
       "      <td>3281.2500</td>\n",
       "      <td>14.9333</td>\n",
       "      <td>4125.0000</td>\n",
       "    </tr>\n",
       "    <tr>\n",
       "      <th>00204008d</th>\n",
       "      <td>8</td>\n",
       "      <td>1</td>\n",
       "      <td>24.4960</td>\n",
       "      <td>3750.0000</td>\n",
       "      <td>28.6187</td>\n",
       "      <td>5531.2500</td>\n",
       "    </tr>\n",
       "    <tr>\n",
       "      <th>00204008d</th>\n",
       "      <td>4</td>\n",
       "      <td>1</td>\n",
       "      <td>15.0027</td>\n",
       "      <td>2343.7500</td>\n",
       "      <td>16.8587</td>\n",
       "      <td>4218.7500</td>\n",
       "    </tr>\n",
       "    <tr>\n",
       "      <th>003b04435</th>\n",
       "      <td>22</td>\n",
       "      <td>1</td>\n",
       "      <td>43.2533</td>\n",
       "      <td>10687.5000</td>\n",
       "      <td>44.8587</td>\n",
       "      <td>13687.5000</td>\n",
       "    </tr>\n",
       "    <tr>\n",
       "      <th>003b04435</th>\n",
       "      <td>23</td>\n",
       "      <td>1</td>\n",
       "      <td>9.1254</td>\n",
       "      <td>7235.1562</td>\n",
       "      <td>15.2091</td>\n",
       "      <td>11283.3984</td>\n",
       "    </tr>\n",
       "  </tbody>\n",
       "</table>\n",
       "</div>"
      ],
      "text/plain": [
       "              species_id  songtype_id    t_min       f_min    t_max  \\\n",
       "recording_id                                                          \n",
       "00204008d             21            1  13.8400   3281.2500  14.9333   \n",
       "00204008d              8            1  24.4960   3750.0000  28.6187   \n",
       "00204008d              4            1  15.0027   2343.7500  16.8587   \n",
       "003b04435             22            1  43.2533  10687.5000  44.8587   \n",
       "003b04435             23            1   9.1254   7235.1562  15.2091   \n",
       "\n",
       "                   f_max  \n",
       "recording_id              \n",
       "00204008d      4125.0000  \n",
       "00204008d      5531.2500  \n",
       "00204008d      4218.7500  \n",
       "003b04435     13687.5000  \n",
       "003b04435     11283.3984  "
      ]
     },
     "metadata": {},
     "output_type": "display_data"
    }
   ],
   "source": [
    "data_dir = '../../input/kaggle/train'\n",
    "fnames = os.listdir(data_dir)\n",
    "recording_ids = [x[:-5] for x in fnames]\n",
    "print(len(fnames), len(os.listdir('../../input/kaggle/test')))\n",
    "train_tp = pd.read_csv('../../input/kaggle/train_tp.csv', index_col='recording_id')\n",
    "train_fp = pd.read_csv('../../input/kaggle/train_fp.csv', index_col='recording_id')\n",
    "folds = joblib.load('folds.jl')\n",
    "print(train_tp.shape)\n",
    "display(train_tp.head())\n",
    "print(train_fp.shape)\n",
    "display(train_fp.head())"
   ]
  },
  {
   "cell_type": "code",
   "execution_count": 33,
   "metadata": {},
   "outputs": [
    {
     "data": {
      "text/plain": [
       "1.0"
      ]
     },
     "execution_count": 33,
     "metadata": {},
     "output_type": "execute_result"
    }
   ],
   "source": [
    "true = np.array([[1,1,1,0,0,0]])\n",
    "pred1 = np.array([[10,9,8,2,1,0]])\n",
    "pred2 = np.array([[1, 0.9, 0.8, 0.2, 0.1, 0]])\n",
    "kaggle_metric(pred, true)"
   ]
  },
  {
   "cell_type": "code",
   "execution_count": 34,
   "metadata": {},
   "outputs": [
    {
     "data": {
      "text/plain": [
       "array([ 5.,  4.,  3., -3., -4., -5.])"
      ]
     },
     "execution_count": 34,
     "metadata": {},
     "output_type": "execute_result"
    }
   ],
   "source": [
    "one_pred1 = pred1[0]\n",
    "(one_pred1[:, np.newaxis]-one_pred1).mean(axis=1)"
   ]
  },
  {
   "cell_type": "code",
   "execution_count": 35,
   "metadata": {},
   "outputs": [
    {
     "data": {
      "text/plain": [
       "array([ 0.5,  0.4,  0.3, -0.3, -0.4, -0.5])"
      ]
     },
     "execution_count": 35,
     "metadata": {},
     "output_type": "execute_result"
    }
   ],
   "source": [
    "one_pred2 = pred2[0]\n",
    "(one_pred2[:, np.newaxis]-one_pred2).mean(axis=1)"
   ]
  },
  {
   "cell_type": "code",
   "execution_count": 36,
   "metadata": {},
   "outputs": [
    {
     "data": {
      "text/plain": [
       "array([[11. ,  9.9,  8.8,  2.2,  1.1,  0. ]])"
      ]
     },
     "execution_count": 36,
     "metadata": {},
     "output_type": "execute_result"
    }
   ],
   "source": [
    "pred1+pred2"
   ]
  },
  {
   "cell_type": "code",
   "execution_count": 16,
   "metadata": {},
   "outputs": [
    {
     "data": {
      "text/plain": [
       "array([0.02550773, 0.0328173 , 0.02887736, 0.14533653, 0.02409933,\n",
       "       0.03024066, 0.01445311, 0.04350997, 0.04280766, 0.02020658,\n",
       "       0.02575523, 0.03984161, 0.0471417 , 0.01894485, 0.02851368,\n",
       "       0.02005321, 0.03796182, 0.02418424, 0.08893508, 0.01769097,\n",
       "       0.01300851, 0.03880661, 0.02692984, 0.04639288])"
      ]
     },
     "execution_count": 16,
     "metadata": {},
     "output_type": "execute_result"
    }
   ],
   "source": [
    "tmp = torch.load('../../model/v12/stage0-fold0-seed0/best.pth', map_location='cpu')\n",
    "sigmoid(tmp['val_preds']).mean(axis=0)"
   ]
  },
  {
   "cell_type": "code",
   "execution_count": 17,
   "metadata": {},
   "outputs": [
    {
     "data": {
      "text/plain": [
       "array([0.02747452, 0.04221486, 0.02012031, 0.10325328, 0.02895558,\n",
       "       0.02939461, 0.01261754, 0.03390609, 0.04031887, 0.02480255,\n",
       "       0.02672071, 0.04011226, 0.06316055, 0.03911912, 0.02643656,\n",
       "       0.03016641, 0.03283299, 0.0200389 , 0.09705085, 0.01645752,\n",
       "       0.00842396, 0.03952034, 0.02865285, 0.05285057])"
      ]
     },
     "execution_count": 17,
     "metadata": {},
     "output_type": "execute_result"
    }
   ],
   "source": [
    "tmp = torch.load('../../model/v12/stage1-fold0-seed4/best.pth', map_location='cpu')\n",
    "sigmoid(tmp['val_preds']).mean(axis=0)"
   ]
  },
  {
   "cell_type": "code",
   "execution_count": 18,
   "metadata": {},
   "outputs": [
    {
     "data": {
      "text/plain": [
       "array([0.02781067, 0.04668172, 0.02703697, 0.10870536, 0.02981778,\n",
       "       0.03547848, 0.01357744, 0.03450568, 0.03964604, 0.02652382,\n",
       "       0.03314757, 0.04319209, 0.0555724 , 0.04192604, 0.03169692,\n",
       "       0.03394956, 0.03976284, 0.02233029, 0.09820811, 0.01922553,\n",
       "       0.01234154, 0.04294818, 0.02938584, 0.04969589])"
      ]
     },
     "execution_count": 18,
     "metadata": {},
     "output_type": "execute_result"
    }
   ],
   "source": [
    "tmp = torch.load('../../model/v12/stage2-fold0-seed7/best.pth', map_location='cpu')\n",
    "sigmoid(tmp['val_preds']).mean(axis=0)"
   ]
  },
  {
   "cell_type": "code",
   "execution_count": 19,
   "metadata": {},
   "outputs": [
    {
     "data": {
      "text/plain": [
       "array([0.03006334, 0.0457178 , 0.03074395, 0.10823   , 0.0318668 ,\n",
       "       0.03610059, 0.01459556, 0.03838072, 0.04177073, 0.03069071,\n",
       "       0.03314655, 0.05082011, 0.05740452, 0.04450365, 0.02984581,\n",
       "       0.04053078, 0.04416258, 0.02290087, 0.09969498, 0.02020152,\n",
       "       0.01447978, 0.04352839, 0.03205069, 0.048899  ])"
      ]
     },
     "execution_count": 19,
     "metadata": {},
     "output_type": "execute_result"
    }
   ],
   "source": [
    "tmp = torch.load('../../model/v12/stage3-fold0-seed10/best.pth', map_location='cpu')\n",
    "sigmoid(tmp['val_preds']).mean(axis=0)"
   ]
  },
  {
   "cell_type": "code",
   "execution_count": 6,
   "metadata": {},
   "outputs": [
    {
     "data": {
      "text/plain": [
       "species_id\n",
       "0     0.166667\n",
       "1     0.167785\n",
       "2     0.123333\n",
       "3     0.166667\n",
       "4     0.166667\n",
       "5     0.166667\n",
       "6     0.166667\n",
       "7     0.166667\n",
       "8     0.166667\n",
       "9     0.113333\n",
       "10    0.167785\n",
       "11    0.166667\n",
       "12    0.166667\n",
       "13    0.166667\n",
       "14    0.166667\n",
       "15    0.166667\n",
       "16    0.166667\n",
       "17    0.113333\n",
       "18    0.166667\n",
       "19    0.143813\n",
       "20    0.133333\n",
       "21    0.166667\n",
       "22    0.153846\n",
       "23    0.166667\n",
       "dtype: float64"
      ]
     },
     "execution_count": 6,
     "metadata": {},
     "output_type": "execute_result"
    }
   ],
   "source": [
    "train_tp.groupby('species_id').size()/train_fp.groupby('species_id').size()"
   ]
  },
  {
   "cell_type": "code",
   "execution_count": 10,
   "metadata": {},
   "outputs": [
    {
     "name": "stdout",
     "output_type": "stream",
     "text": [
      "0 ['5345-9080' '5345-8260']\n",
      "1 ['3457-6211']\n",
      "2 ['369-3343']\n",
      "3 ['884-3138']\n",
      "4 ['2085-4675' '2256-4470']\n",
      "5 ['4315-11436' '4573-12358']\n",
      "6 ['455-4880' '455-3548']\n",
      "7 ['4230-12563']\n",
      "8 ['3372-6109']\n",
      "9 ['712-6314' '970-5802']\n",
      "10 ['807-11924']\n",
      "11 ['1595-6277']\n",
      "12 ['455-3650']\n",
      "13 ['26-986' '26-1601']\n",
      "14 ['2256-6109' '3372-7133' '2514-4880']\n",
      "15 ['26-1294']\n",
      "16 ['2771-5084']\n",
      "17 ['1280-5053' '1227-4367' '1141-4367' '1141-8158']\n",
      "18 ['2857-5597']\n",
      "19 ['197-3138']\n",
      "20 ['1141-6724' '2085-6314']\n",
      "21 ['2943-4572']\n",
      "22 ['9720-15022']\n",
      "23 ['6561-12395' '5852-12771']\n"
     ]
    }
   ],
   "source": [
    "def transform(x, offset):\n",
    "    return frommelscale(tomelscale(x)+offset).astype(int)\n",
    "offset = 100\n",
    "\n",
    "df = pd.concat((train_tp, train_fp), axis=0)\n",
    "for i in range(24):\n",
    "    cur = df.loc[df['species_id']==i]\n",
    "    tmp = transform(cur['f_min'], -offset).astype(str) + '-' + transform(cur['f_max'], offset).astype(str)\n",
    "    print(i, tmp.unique())"
   ]
  },
  {
   "cell_type": "code",
   "execution_count": 8,
   "metadata": {},
   "outputs": [],
   "source": [
    "import pandas as pd\n",
    "from utils import frommelscale, tomelscale\n",
    "offset = 100\n",
    "def transform(x, offset):\n",
    "    return frommelscale(tomelscale(x)+offset).astype(int)\n",
    "train_tp = pd.read_csv('../../input/kaggle/train_tp.csv', index_col='recording_id')\n",
    "train_fp = pd.read_csv('../../input/kaggle/train_fp.csv', index_col='recording_id')\n",
    "df = pd.concat((train_tp, train_fp), axis=0)\n",
    "res = pd.DataFrame(index=range(24), columns=['fmin', 'fmax'])\n",
    "for i in range(24):\n",
    "    cur = df.loc[df['species_id']==i]\n",
    "    res.loc[i, 'fmin'] = cur['f_min'].min()\n",
    "    res.loc[i, 'fmax'] = cur['f_max'].max()"
   ]
  },
  {
   "cell_type": "code",
   "execution_count": 13,
   "metadata": {},
   "outputs": [],
   "source": [
    "res.to_feather('fminfmax_by_sid.ft')"
   ]
  },
  {
   "cell_type": "code",
   "execution_count": 12,
   "metadata": {},
   "outputs": [
    {
     "data": {
      "text/html": [
       "<div>\n",
       "<style scoped>\n",
       "    .dataframe tbody tr th:only-of-type {\n",
       "        vertical-align: middle;\n",
       "    }\n",
       "\n",
       "    .dataframe tbody tr th {\n",
       "        vertical-align: top;\n",
       "    }\n",
       "\n",
       "    .dataframe thead th {\n",
       "        text-align: right;\n",
       "    }\n",
       "</style>\n",
       "<table border=\"1\" class=\"dataframe\">\n",
       "  <thead>\n",
       "    <tr style=\"text-align: right;\">\n",
       "      <th></th>\n",
       "      <th>f_min</th>\n",
       "      <th>f_max</th>\n",
       "    </tr>\n",
       "  </thead>\n",
       "  <tbody>\n",
       "    <tr>\n",
       "      <th>0</th>\n",
       "      <td>5906.2500</td>\n",
       "      <td>8250.0000</td>\n",
       "    </tr>\n",
       "    <tr>\n",
       "      <th>1</th>\n",
       "      <td>3843.7500</td>\n",
       "      <td>5625.0000</td>\n",
       "    </tr>\n",
       "    <tr>\n",
       "      <th>2</th>\n",
       "      <td>468.7500</td>\n",
       "      <td>3000.0000</td>\n",
       "    </tr>\n",
       "    <tr>\n",
       "      <th>3</th>\n",
       "      <td>1031.2500</td>\n",
       "      <td>2812.5000</td>\n",
       "    </tr>\n",
       "    <tr>\n",
       "      <th>4</th>\n",
       "      <td>2343.7500</td>\n",
       "      <td>4218.7500</td>\n",
       "    </tr>\n",
       "    <tr>\n",
       "      <th>5</th>\n",
       "      <td>4781.2500</td>\n",
       "      <td>11250.0000</td>\n",
       "    </tr>\n",
       "    <tr>\n",
       "      <th>6</th>\n",
       "      <td>562.5000</td>\n",
       "      <td>4406.2500</td>\n",
       "    </tr>\n",
       "    <tr>\n",
       "      <th>7</th>\n",
       "      <td>4687.5000</td>\n",
       "      <td>11437.5000</td>\n",
       "    </tr>\n",
       "    <tr>\n",
       "      <th>8</th>\n",
       "      <td>3750.0000</td>\n",
       "      <td>5531.2500</td>\n",
       "    </tr>\n",
       "    <tr>\n",
       "      <th>9</th>\n",
       "      <td>843.7500</td>\n",
       "      <td>5718.7500</td>\n",
       "    </tr>\n",
       "    <tr>\n",
       "      <th>10</th>\n",
       "      <td>947.4609</td>\n",
       "      <td>10852.7344</td>\n",
       "    </tr>\n",
       "    <tr>\n",
       "      <th>11</th>\n",
       "      <td>1808.7891</td>\n",
       "      <td>5684.7700</td>\n",
       "    </tr>\n",
       "    <tr>\n",
       "      <th>12</th>\n",
       "      <td>562.5000</td>\n",
       "      <td>3281.2500</td>\n",
       "    </tr>\n",
       "    <tr>\n",
       "      <th>13</th>\n",
       "      <td>93.7500</td>\n",
       "      <td>1406.2500</td>\n",
       "    </tr>\n",
       "    <tr>\n",
       "      <th>14</th>\n",
       "      <td>2531.2500</td>\n",
       "      <td>6468.7500</td>\n",
       "    </tr>\n",
       "    <tr>\n",
       "      <th>15</th>\n",
       "      <td>93.7500</td>\n",
       "      <td>1125.0000</td>\n",
       "    </tr>\n",
       "    <tr>\n",
       "      <th>16</th>\n",
       "      <td>3093.7500</td>\n",
       "      <td>4593.7500</td>\n",
       "    </tr>\n",
       "    <tr>\n",
       "      <th>17</th>\n",
       "      <td>1312.5000</td>\n",
       "      <td>7406.2500</td>\n",
       "    </tr>\n",
       "    <tr>\n",
       "      <th>18</th>\n",
       "      <td>3187.5000</td>\n",
       "      <td>5062.5000</td>\n",
       "    </tr>\n",
       "    <tr>\n",
       "      <th>19</th>\n",
       "      <td>281.2500</td>\n",
       "      <td>2812.5000</td>\n",
       "    </tr>\n",
       "    <tr>\n",
       "      <th>20</th>\n",
       "      <td>1312.5000</td>\n",
       "      <td>6093.7500</td>\n",
       "    </tr>\n",
       "    <tr>\n",
       "      <th>21</th>\n",
       "      <td>3281.2500</td>\n",
       "      <td>4125.0000</td>\n",
       "    </tr>\n",
       "    <tr>\n",
       "      <th>22</th>\n",
       "      <td>10687.5000</td>\n",
       "      <td>13687.5000</td>\n",
       "    </tr>\n",
       "    <tr>\n",
       "      <th>23</th>\n",
       "      <td>6459.9600</td>\n",
       "      <td>11627.9297</td>\n",
       "    </tr>\n",
       "  </tbody>\n",
       "</table>\n",
       "</div>"
      ],
      "text/plain": [
       "         f_min       f_max\n",
       "0    5906.2500   8250.0000\n",
       "1    3843.7500   5625.0000\n",
       "2     468.7500   3000.0000\n",
       "3    1031.2500   2812.5000\n",
       "4    2343.7500   4218.7500\n",
       "5    4781.2500  11250.0000\n",
       "6     562.5000   4406.2500\n",
       "7    4687.5000  11437.5000\n",
       "8    3750.0000   5531.2500\n",
       "9     843.7500   5718.7500\n",
       "10    947.4609  10852.7344\n",
       "11   1808.7891   5684.7700\n",
       "12    562.5000   3281.2500\n",
       "13     93.7500   1406.2500\n",
       "14   2531.2500   6468.7500\n",
       "15     93.7500   1125.0000\n",
       "16   3093.7500   4593.7500\n",
       "17   1312.5000   7406.2500\n",
       "18   3187.5000   5062.5000\n",
       "19    281.2500   2812.5000\n",
       "20   1312.5000   6093.7500\n",
       "21   3281.2500   4125.0000\n",
       "22  10687.5000  13687.5000\n",
       "23   6459.9600  11627.9297"
      ]
     },
     "execution_count": 12,
     "metadata": {},
     "output_type": "execute_result"
    }
   ],
   "source": [
    "res"
   ]
  },
  {
   "cell_type": "code",
   "execution_count": 15,
   "metadata": {},
   "outputs": [
    {
     "data": {
      "text/html": [
       "<div>\n",
       "<style scoped>\n",
       "    .dataframe tbody tr th:only-of-type {\n",
       "        vertical-align: middle;\n",
       "    }\n",
       "\n",
       "    .dataframe tbody tr th {\n",
       "        vertical-align: top;\n",
       "    }\n",
       "\n",
       "    .dataframe thead th {\n",
       "        text-align: right;\n",
       "    }\n",
       "</style>\n",
       "<table border=\"1\" class=\"dataframe\">\n",
       "  <thead>\n",
       "    <tr style=\"text-align: right;\">\n",
       "      <th></th>\n",
       "      <th>0</th>\n",
       "      <th>1</th>\n",
       "      <th>2</th>\n",
       "      <th>3</th>\n",
       "      <th>4</th>\n",
       "      <th>5</th>\n",
       "      <th>6</th>\n",
       "      <th>7</th>\n",
       "      <th>8</th>\n",
       "      <th>9</th>\n",
       "      <th>10</th>\n",
       "      <th>11</th>\n",
       "      <th>12</th>\n",
       "      <th>13</th>\n",
       "      <th>14</th>\n",
       "      <th>15</th>\n",
       "      <th>16</th>\n",
       "      <th>17</th>\n",
       "      <th>18</th>\n",
       "      <th>19</th>\n",
       "      <th>20</th>\n",
       "      <th>21</th>\n",
       "      <th>22</th>\n",
       "      <th>23</th>\n",
       "    </tr>\n",
       "  </thead>\n",
       "  <tbody>\n",
       "    <tr>\n",
       "      <th>73c482b64</th>\n",
       "      <td>0</td>\n",
       "      <td>0</td>\n",
       "      <td>0</td>\n",
       "      <td>0</td>\n",
       "      <td>0</td>\n",
       "      <td>0</td>\n",
       "      <td>0</td>\n",
       "      <td>0</td>\n",
       "      <td>0</td>\n",
       "      <td>0</td>\n",
       "      <td>0</td>\n",
       "      <td>0</td>\n",
       "      <td>0</td>\n",
       "      <td>0</td>\n",
       "      <td>0</td>\n",
       "      <td>0</td>\n",
       "      <td>0</td>\n",
       "      <td>0</td>\n",
       "      <td>0</td>\n",
       "      <td>0</td>\n",
       "      <td>0</td>\n",
       "      <td>0</td>\n",
       "      <td>0</td>\n",
       "      <td>0</td>\n",
       "    </tr>\n",
       "    <tr>\n",
       "      <th>afaa8d38f</th>\n",
       "      <td>0</td>\n",
       "      <td>0</td>\n",
       "      <td>0</td>\n",
       "      <td>0</td>\n",
       "      <td>0</td>\n",
       "      <td>0</td>\n",
       "      <td>0</td>\n",
       "      <td>0</td>\n",
       "      <td>0</td>\n",
       "      <td>0</td>\n",
       "      <td>0</td>\n",
       "      <td>0</td>\n",
       "      <td>0</td>\n",
       "      <td>0</td>\n",
       "      <td>0</td>\n",
       "      <td>0</td>\n",
       "      <td>0</td>\n",
       "      <td>0</td>\n",
       "      <td>0</td>\n",
       "      <td>1</td>\n",
       "      <td>0</td>\n",
       "      <td>0</td>\n",
       "      <td>0</td>\n",
       "      <td>0</td>\n",
       "    </tr>\n",
       "    <tr>\n",
       "      <th>074cf066a</th>\n",
       "      <td>0</td>\n",
       "      <td>0</td>\n",
       "      <td>0</td>\n",
       "      <td>0</td>\n",
       "      <td>0</td>\n",
       "      <td>0</td>\n",
       "      <td>0</td>\n",
       "      <td>0</td>\n",
       "      <td>0</td>\n",
       "      <td>0</td>\n",
       "      <td>0</td>\n",
       "      <td>0</td>\n",
       "      <td>0</td>\n",
       "      <td>0</td>\n",
       "      <td>0</td>\n",
       "      <td>0</td>\n",
       "      <td>0</td>\n",
       "      <td>0</td>\n",
       "      <td>0</td>\n",
       "      <td>0</td>\n",
       "      <td>0</td>\n",
       "      <td>0</td>\n",
       "      <td>0</td>\n",
       "      <td>0</td>\n",
       "    </tr>\n",
       "    <tr>\n",
       "      <th>de0c8a7f7</th>\n",
       "      <td>0</td>\n",
       "      <td>0</td>\n",
       "      <td>0</td>\n",
       "      <td>0</td>\n",
       "      <td>0</td>\n",
       "      <td>0</td>\n",
       "      <td>0</td>\n",
       "      <td>0</td>\n",
       "      <td>0</td>\n",
       "      <td>0</td>\n",
       "      <td>0</td>\n",
       "      <td>0</td>\n",
       "      <td>0</td>\n",
       "      <td>0</td>\n",
       "      <td>0</td>\n",
       "      <td>0</td>\n",
       "      <td>0</td>\n",
       "      <td>0</td>\n",
       "      <td>0</td>\n",
       "      <td>0</td>\n",
       "      <td>0</td>\n",
       "      <td>0</td>\n",
       "      <td>0</td>\n",
       "      <td>0</td>\n",
       "    </tr>\n",
       "    <tr>\n",
       "      <th>e568d45b5</th>\n",
       "      <td>0</td>\n",
       "      <td>0</td>\n",
       "      <td>0</td>\n",
       "      <td>0</td>\n",
       "      <td>0</td>\n",
       "      <td>0</td>\n",
       "      <td>0</td>\n",
       "      <td>0</td>\n",
       "      <td>0</td>\n",
       "      <td>0</td>\n",
       "      <td>0</td>\n",
       "      <td>0</td>\n",
       "      <td>0</td>\n",
       "      <td>0</td>\n",
       "      <td>0</td>\n",
       "      <td>0</td>\n",
       "      <td>0</td>\n",
       "      <td>0</td>\n",
       "      <td>0</td>\n",
       "      <td>0</td>\n",
       "      <td>0</td>\n",
       "      <td>0</td>\n",
       "      <td>0</td>\n",
       "      <td>0</td>\n",
       "    </tr>\n",
       "  </tbody>\n",
       "</table>\n",
       "</div>"
      ],
      "text/plain": [
       "           0   1   2   3   4   5   6   7   8   9   10  11  12  13  14  15  16  \\\n",
       "73c482b64   0   0   0   0   0   0   0   0   0   0   0   0   0   0   0   0   0   \n",
       "afaa8d38f   0   0   0   0   0   0   0   0   0   0   0   0   0   0   0   0   0   \n",
       "074cf066a   0   0   0   0   0   0   0   0   0   0   0   0   0   0   0   0   0   \n",
       "de0c8a7f7   0   0   0   0   0   0   0   0   0   0   0   0   0   0   0   0   0   \n",
       "e568d45b5   0   0   0   0   0   0   0   0   0   0   0   0   0   0   0   0   0   \n",
       "\n",
       "           17  18  19  20  21  22  23  \n",
       "73c482b64   0   0   0   0   0   0   0  \n",
       "afaa8d38f   0   0   1   0   0   0   0  \n",
       "074cf066a   0   0   0   0   0   0   0  \n",
       "de0c8a7f7   0   0   0   0   0   0   0  \n",
       "e568d45b5   0   0   0   0   0   0   0  "
      ]
     },
     "execution_count": 15,
     "metadata": {},
     "output_type": "execute_result"
    }
   ],
   "source": [
    "train_df = pd.DataFrame(0, index=recording_ids, columns=range(24))\n",
    "for i in range(24):\n",
    "    cur = train_tp[train_tp['species_id']==i]\n",
    "    train_df.loc[cur.index, i] = 1\n",
    "train_df.head()"
   ]
  },
  {
   "cell_type": "markdown",
   "metadata": {},
   "source": [
    "# LOSS ERROR"
   ]
  },
  {
   "cell_type": "code",
   "execution_count": 7,
   "metadata": {},
   "outputs": [],
   "source": [
    "data, logits, loss, grad_norm = joblib.load('error.jl')"
   ]
  },
  {
   "cell_type": "code",
   "execution_count": null,
   "metadata": {},
   "outputs": [],
   "source": []
  }
 ],
 "metadata": {
  "kernelspec": {
   "display_name": "Python 3",
   "language": "python",
   "name": "python3"
  },
  "language_info": {
   "codemirror_mode": {
    "name": "ipython",
    "version": 3
   },
   "file_extension": ".py",
   "mimetype": "text/x-python",
   "name": "python",
   "nbconvert_exporter": "python",
   "pygments_lexer": "ipython3",
   "version": "3.8.5"
  }
 },
 "nbformat": 4,
 "nbformat_minor": 4
}
